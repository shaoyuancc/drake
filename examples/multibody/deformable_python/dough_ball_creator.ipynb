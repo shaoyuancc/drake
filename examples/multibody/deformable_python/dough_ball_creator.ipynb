{
 "cells": [
  {
   "cell_type": "code",
   "execution_count": 5,
   "metadata": {},
   "outputs": [
    {
     "name": "stderr",
     "output_type": "stream",
     "text": [
      "\u001b[0m\u001b[31m2023-01-14 11:56:47.375 (91030.340s) [            77EF]vtkDemandDrivenPipeline:754    ERR| vtkCompositeDataPipeline (0x7fd3907b41e0): Input for connection index 0 on input port index 0 for algorithm vtkUnstructuredGridWriter (0x7fd2e09d3960) is of type vtkPolyData, but a vtkUnstructuredGridBase is required.\u001b[0m\n",
      "\u001b[0m\u001b[31m2023-01-14 11:56:47.376 (91030.340s) [            77EF]vtkDemandDrivenPipeline:754    ERR| vtkCompositeDataPipeline (0x7fd3907b41e0): Input for connection index 0 on input port index 0 for algorithm vtkUnstructuredGridWriter (0x7fd2e09d3960) is of type vtkPolyData, but a vtkUnstructuredGridBase is required.\u001b[0m\n"
     ]
    },
    {
     "data": {
      "text/plain": [
       "1"
      ]
     },
     "execution_count": 5,
     "metadata": {},
     "output_type": "execute_result"
    }
   ],
   "source": [
    "import vtk\n",
    "import numpy as np\n",
    "\n",
    "# Create sphere\n",
    "sphere = vtk.vtkSphereSource()\n",
    "sphere.SetRadius(0.05) # 0.1m diameter sphere\n",
    "sphere.Update()\n",
    "\n",
    "# Export the sphere in VTK format\n",
    "writer = vtk.vtkPolyDataWriter()\n",
    "writer.SetFileName(\"sphere.vtk\")\n",
    "writer.SetInputData(sphere.GetOutput())\n",
    "writer.Write()"
   ]
  },
  {
   "cell_type": "code",
   "execution_count": 4,
   "metadata": {},
   "outputs": [
    {
     "data": {
      "text/plain": [
       "1"
      ]
     },
     "execution_count": 4,
     "metadata": {},
     "output_type": "execute_result"
    }
   ],
   "source": [
    "import vtk\n",
    "\n",
    "# Create sphere\n",
    "sphere = vtk.vtkSphereSource()\n",
    "sphere.SetRadius(0.05) # 0.1m diameter sphere\n",
    "sphere.Update()\n",
    "\n",
    "# Convert the sphere to unstructured grid\n",
    "ugrid = vtk.vtkUnstructuredGrid()\n",
    "ugrid.SetPoints(sphere.GetOutput().GetPoints())\n",
    "ugrid.InsertNextCell(sphere.GetOutput().GetCellType(0), sphere.GetOutput().GetCell(0).GetPointIds())\n",
    "\n",
    "# Export the unstructured grid in VTK format\n",
    "writer = vtk.vtkXMLUnstructuredGridWriter()\n",
    "writer.SetFileName(\"sphere.vtu\")\n",
    "writer.SetInputData(ugrid)\n",
    "writer.Write()"
   ]
  },
  {
   "cell_type": "code",
   "execution_count": 7,
   "metadata": {},
   "outputs": [
    {
     "data": {
      "text/plain": [
       "1"
      ]
     },
     "execution_count": 7,
     "metadata": {},
     "output_type": "execute_result"
    }
   ],
   "source": [
    "import vtk\n",
    "\n",
    "# Create sphere\n",
    "sphere = vtk.vtkSphereSource()\n",
    "sphere.SetRadius(0.05) # 0.1m diameter sphere\n",
    "sphere.Update()\n",
    "\n",
    "# Convert the sphere to unstructured grid\n",
    "ugrid = vtk.vtkUnstructuredGrid()\n",
    "ugrid.SetPoints(sphere.GetOutput().GetPoints())\n",
    "ugrid.InsertNextCell(sphere.GetOutput().GetCellType(0), sphere.GetOutput().GetCell(0).GetPointIds())\n",
    "\n",
    "# Export the unstructured grid in VTK format 2.0 in ASCII format\n",
    "writer = vtk.vtkDataSetWriter()\n",
    "writer.SetFileName(\"sphere.vtk\")\n",
    "writer.SetFileTypeToASCII()\n",
    "writer.SetInputData(ugrid)\n",
    "writer.Write()\n"
   ]
  },
  {
   "cell_type": "code",
   "execution_count": 13,
   "metadata": {},
   "outputs": [
    {
     "data": {
      "text/plain": [
       "1"
      ]
     },
     "execution_count": 13,
     "metadata": {},
     "output_type": "execute_result"
    }
   ],
   "source": [
    "import vtk\n",
    "\n",
    "# Create a sphere\n",
    "sphere = vtk.vtkSphereSource()\n",
    "\n",
    "# Set the radius of the sphere\n",
    "sphere.SetRadius(1)\n",
    "\n",
    "# Set the center of the sphere\n",
    "sphere.SetCenter(0,0,0)\n",
    "\n",
    "# Update the sphere\n",
    "sphere.Update()\n",
    "\n",
    "triangleFilter = vtk.vtkDataSetTriangleFilter()\n",
    "triangleFilter.SetInputConnection(sphere.GetOutputPort())\n",
    "triangleFilter.Update()\n",
    "\n",
    "ugrid = triangleFilter.GetOutput()\n",
    "\n",
    "# Create a VTK writer\n",
    "writer = vtk.vtkUnstructuredGridWriter()\n",
    "\n",
    "# Set the input for the writer\n",
    "writer.SetInputData(ugrid)\n",
    "\n",
    "# Set the file type to ASCII\n",
    "writer.SetFileTypeToASCII()\n",
    "\n",
    "# Set the file name\n",
    "writer.SetFileName(\"sphere.vtk\")\n",
    "\n",
    "# Write the file\n",
    "writer.Write()\n"
   ]
  },
  {
   "cell_type": "code",
   "execution_count": 12,
   "metadata": {},
   "outputs": [
    {
     "data": {
      "text/plain": [
       "1"
      ]
     },
     "execution_count": 12,
     "metadata": {},
     "output_type": "execute_result"
    }
   ],
   "source": [
    "import vtk\n",
    "\n",
    "# Create a sphere source\n",
    "sphere = vtk.vtkSphereSource()\n",
    "sphere.SetRadius(1.0)\n",
    "sphere.Update()\n",
    "\n",
    "# Triangulate the polygonal mesh\n",
    "triangulate = vtk.vtkTriangleFilter()\n",
    "triangulate.SetInputConnection(sphere.GetOutputPort())\n",
    "triangulate.Update()\n",
    "\n",
    "# Write the tetrahedral mesh to a VTK ASCII file\n",
    "writer = vtk.vtkDataSetWriter()\n",
    "writer.SetFileName(\"sphere.vtk\")\n",
    "writer.SetInputConnection(triangulate.GetOutputPort())\n",
    "writer.Write()"
   ]
  },
  {
   "cell_type": "code",
   "execution_count": null,
   "metadata": {},
   "outputs": [],
   "source": []
  }
 ],
 "metadata": {
  "kernelspec": {
   "display_name": "Python 3",
   "language": "python",
   "name": "python3"
  },
  "language_info": {
   "codemirror_mode": {
    "name": "ipython",
    "version": 3
   },
   "file_extension": ".py",
   "mimetype": "text/x-python",
   "name": "python",
   "nbconvert_exporter": "python",
   "pygments_lexer": "ipython3",
   "version": "3.11.1 (main, Dec 23 2022, 09:39:26) [Clang 14.0.0 (clang-1400.0.29.202)]"
  },
  "orig_nbformat": 4,
  "vscode": {
   "interpreter": {
    "hash": "1a1af0ee75eeea9e2e1ee996c87e7a2b11a0bebd85af04bb136d915cefc0abce"
   }
  }
 },
 "nbformat": 4,
 "nbformat_minor": 2
}
